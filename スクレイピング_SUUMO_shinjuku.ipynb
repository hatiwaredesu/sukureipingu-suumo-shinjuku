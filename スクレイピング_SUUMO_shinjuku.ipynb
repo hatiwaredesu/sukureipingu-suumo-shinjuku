{
 "cells": [
  {
   "cell_type": "code",
   "execution_count": 1,
   "id": "c8240481",
   "metadata": {},
   "outputs": [],
   "source": [
    "from bs4 import BeautifulSoup\n",
    "\n",
    "import requests"
   ]
  },
  {
   "cell_type": "code",
   "execution_count": 2,
   "id": "6a09a1ce",
   "metadata": {},
   "outputs": [
    {
     "name": "stdout",
     "output_type": "stream",
     "text": [
      "https://suumo.jp/chintai/tokyo/sc_shinjuku/?page=1\n"
     ]
    }
   ],
   "source": [
    "url = 'https://suumo.jp/chintai/tokyo/sc_shinjuku/?page={}'\n",
    "\n",
    "target_url = url.format(1)\n",
    "\n",
    "print(target_url)"
   ]
  },
  {
   "cell_type": "code",
   "execution_count": 3,
   "id": "9778062e",
   "metadata": {},
   "outputs": [],
   "source": [
    "r = requests.get(target_url)\n",
    "\n",
    "soup = BeautifulSoup(r.text)"
   ]
  },
  {
   "cell_type": "code",
   "execution_count": 4,
   "id": "e77521bd",
   "metadata": {},
   "outputs": [],
   "source": [
    "contents = soup.find_all('div', class_='cassetteitem')"
   ]
  },
  {
   "cell_type": "code",
   "execution_count": 5,
   "id": "03f058fc",
   "metadata": {},
   "outputs": [
    {
     "data": {
      "text/plain": [
       "20"
      ]
     },
     "execution_count": 5,
     "metadata": {},
     "output_type": "execute_result"
    }
   ],
   "source": [
    "len(contents)"
   ]
  },
  {
   "cell_type": "code",
   "execution_count": 6,
   "id": "57cde1a9",
   "metadata": {},
   "outputs": [],
   "source": [
    "content = contents[0]"
   ]
  },
  {
   "cell_type": "code",
   "execution_count": 18,
   "id": "9a823469",
   "metadata": {},
   "outputs": [],
   "source": [
    "detail = content.find('div',class_ = 'cassetteitem-detail')\n",
    "\n",
    "table = content.find('table',class_ = 'cassetteitem_other')"
   ]
  },
  {
   "cell_type": "code",
   "execution_count": 15,
   "id": "0373195c",
   "metadata": {},
   "outputs": [],
   "source": [
    "title = detail.find('div', class_ = 'cassetteitem_content-title').text\n",
    "address = detail.find('li', class_ = 'cassetteitem_detail-col1').text\n",
    "access = detail.find('li', class_ = 'cassetteitem_detail-col2').text\n",
    "age = detail.find('li', class_ = 'cassetteitem_detail-col3').text"
   ]
  },
  {
   "cell_type": "code",
   "execution_count": 16,
   "id": "ce869d71",
   "metadata": {},
   "outputs": [
    {
     "data": {
      "text/plain": [
       "('サンウッド新宿戸山フラッツ',\n",
       " '東京都新宿区新宿７',\n",
       " '\\n東京メトロ副都心線/東新宿駅 歩3分\\n東京メトロ副都心線/新宿三丁目駅 歩12分\\nＪＲ山手線/新大久保駅 歩12分\\n',\n",
       " '\\n築20年\\n5階建\\n')"
      ]
     },
     "execution_count": 16,
     "metadata": {},
     "output_type": "execute_result"
    }
   ],
   "source": [
    "title,address,access,age"
   ]
  },
  {
   "cell_type": "code",
   "execution_count": 22,
   "id": "7b21caa0",
   "metadata": {},
   "outputs": [],
   "source": [
    "tr_tags = table.find_all('tr', class_ = 'js-cassette_link')\n",
    "\n",
    "tr_tag = tr_tags[0]"
   ]
  },
  {
   "cell_type": "code",
   "execution_count": 23,
   "id": "5f10e55f",
   "metadata": {},
   "outputs": [],
   "source": [
    "floor,price,first_fee,capacity = tr_tag.find_all('td')[2:6]"
   ]
  },
  {
   "cell_type": "code",
   "execution_count": 26,
   "id": "6e7fc6fb",
   "metadata": {},
   "outputs": [
    {
     "data": {
      "text/plain": [
       "(<td>\n",
       " \t\t\t\t\t\t\t\t\t\t\t3階</td>,\n",
       " <td>\n",
       " <ul>\n",
       " <li><span class=\"cassetteitem_price cassetteitem_price--rent\"><span class=\"cassetteitem_other-emphasis ui-text--bold\">21万円</span></span></li>\n",
       " <li><span class=\"cassetteitem_price cassetteitem_price--administration\">-</span></li>\n",
       " </ul>\n",
       " </td>,\n",
       " <td>\n",
       " <ul>\n",
       " <li><span class=\"cassetteitem_price cassetteitem_price--deposit\">42万円</span></li>\n",
       " <li><span class=\"cassetteitem_price cassetteitem_price--gratuity\">21万円</span></li>\n",
       " </ul>\n",
       " </td>,\n",
       " <td>\n",
       " <ul>\n",
       " <li><span class=\"cassetteitem_madori\">1LDK</span></li>\n",
       " <li><span class=\"cassetteitem_menseki\">57.36m<sup>2</sup></span></li>\n",
       " </ul>\n",
       " </td>)"
      ]
     },
     "execution_count": 26,
     "metadata": {},
     "output_type": "execute_result"
    }
   ],
   "source": [
    "floor,price,first_fee,capacity"
   ]
  },
  {
   "cell_type": "code",
   "execution_count": 27,
   "id": "b974f67d",
   "metadata": {},
   "outputs": [],
   "source": [
    "fee,management_fee = price.find_all('li')\n",
    "deposit,gratuity = first_fee.find_all('li')\n",
    "madori,menseki = capacity.find_all('li')"
   ]
  },
  {
   "cell_type": "code",
   "execution_count": 28,
   "id": "ea63fe10",
   "metadata": {},
   "outputs": [
    {
     "name": "stdout",
     "output_type": "stream",
     "text": [
      "<li><span class=\"cassetteitem_price cassetteitem_price--rent\"><span class=\"cassetteitem_other-emphasis ui-text--bold\">21万円</span></span></li>\n",
      "<li><span class=\"cassetteitem_price cassetteitem_price--administration\">-</span></li>\n",
      "\n",
      "<li><span class=\"cassetteitem_price cassetteitem_price--deposit\">42万円</span></li>\n",
      "<li><span class=\"cassetteitem_price cassetteitem_price--gratuity\">21万円</span></li>\n",
      "\n",
      "<li><span class=\"cassetteitem_madori\">1LDK</span></li>\n",
      "<li><span class=\"cassetteitem_menseki\">57.36m<sup>2</sup></span></li>\n",
      "\n"
     ]
    }
   ],
   "source": [
    "print(fee)\n",
    "print(management_fee)\n",
    "print()\n",
    "print(deposit)\n",
    "print(gratuity)\n",
    "print()\n",
    "print(madori)\n",
    "print(menseki)\n",
    "print()"
   ]
  },
  {
   "cell_type": "code",
   "execution_count": 30,
   "id": "5bb97d53",
   "metadata": {},
   "outputs": [],
   "source": [
    "d = {\n",
    "    'title':title,\n",
    "    'address':address,\n",
    "    'access':access,\n",
    "    'age':age,\n",
    "    'floor':floor.text,\n",
    "    'management_fee':management_fee.text,\n",
    "    'deposit':deposit.text,\n",
    "    'gratuity':gratuity.text,\n",
    "    'madori':madori.text,\n",
    "    'menseki':menseki.text\n",
    "}"
   ]
  },
  {
   "cell_type": "code",
   "execution_count": 31,
   "id": "fa467284",
   "metadata": {},
   "outputs": [
    {
     "data": {
      "text/plain": [
       "{'title': 'サンウッド新宿戸山フラッツ',\n",
       " 'address': '東京都新宿区新宿７',\n",
       " 'access': '\\n東京メトロ副都心線/東新宿駅 歩3分\\n東京メトロ副都心線/新宿三丁目駅 歩12分\\nＪＲ山手線/新大久保駅 歩12分\\n',\n",
       " 'age': '\\n築20年\\n5階建\\n',\n",
       " 'floor': '\\r\\n\\t\\t\\t\\t\\t\\t\\t\\t\\t\\t\\t3階',\n",
       " 'management_fee': '-',\n",
       " 'deposit': '42万円',\n",
       " 'gratuity': '21万円',\n",
       " 'madori': '1LDK',\n",
       " 'menseki': '57.36m2'}"
      ]
     },
     "execution_count": 31,
     "metadata": {},
     "output_type": "execute_result"
    }
   ],
   "source": [
    "d"
   ]
  },
  {
   "cell_type": "code",
   "execution_count": 32,
   "id": "66e16641",
   "metadata": {},
   "outputs": [],
   "source": [
    "d_list = []\n",
    "\n",
    "contents = soup.find_all('div', class_ = 'cassetteitem')\n",
    "\n",
    "for content in contents:\n",
    "    detail = content.find('div',class_ = 'cassetteitem-detail')\n",
    "    table = content.find('table',class_ = 'cassetteitem_other')\n",
    "    \n",
    "    title = detail.find('div', class_ = 'cassetteitem_content-title').text\n",
    "    address = detail.find('li', class_ = 'cassetteitem_detail-col1').text\n",
    "    access = detail.find('li', class_ = 'cassetteitem_detail-col2').text\n",
    "    age = detail.find('li', class_ = 'cassetteitem_detail-col3').text\n",
    "    \n",
    "    tr_tags = table.find_all('tr', class_ = 'js-cassette_link')\n",
    "    \n",
    "    for tr_tag in tr_tags:\n",
    "        \n",
    "        floor,price,first_fee,capacity = tr_tag.find_all('td')[2:6]\n",
    "        \n",
    "        fee,management_fee = price.find_all('li')\n",
    "        deposit,gratuity = first_fee.find_all('li')\n",
    "        madori,menseki = capacity.find_all('li')\n",
    "        \n",
    "        d = {\n",
    "            'title':title,\n",
    "            'address':address,\n",
    "            'access':access,\n",
    "            'age':age,\n",
    "            'floor':floor.text,\n",
    "            'management_fee':management_fee.text,\n",
    "            'deposit':deposit.text,\n",
    "            'gratuity':gratuity.text,\n",
    "            'madori':madori.text,\n",
    "            'menseki':menseki.text\n",
    "        }\n",
    "        \n",
    "        d_list.append(d)"
   ]
  },
  {
   "cell_type": "code",
   "execution_count": 35,
   "id": "653edfd6",
   "metadata": {},
   "outputs": [],
   "source": [
    "import pandas as pd"
   ]
  },
  {
   "cell_type": "code",
   "execution_count": 38,
   "id": "bc3b7ef0",
   "metadata": {},
   "outputs": [],
   "source": [
    "df = pd.DataFrame(d_list)"
   ]
  },
  {
   "cell_type": "code",
   "execution_count": 40,
   "id": "3105251f",
   "metadata": {},
   "outputs": [],
   "source": [
    "df.to_csv('suumo_shinjuku')"
   ]
  },
  {
   "cell_type": "code",
   "execution_count": null,
   "id": "f65fc6ae",
   "metadata": {},
   "outputs": [],
   "source": []
  }
 ],
 "metadata": {
  "kernelspec": {
   "display_name": "Python 3 (ipykernel)",
   "language": "python",
   "name": "python3"
  },
  "language_info": {
   "codemirror_mode": {
    "name": "ipython",
    "version": 3
   },
   "file_extension": ".py",
   "mimetype": "text/x-python",
   "name": "python",
   "nbconvert_exporter": "python",
   "pygments_lexer": "ipython3",
   "version": "3.9.13"
  }
 },
 "nbformat": 4,
 "nbformat_minor": 5
}
